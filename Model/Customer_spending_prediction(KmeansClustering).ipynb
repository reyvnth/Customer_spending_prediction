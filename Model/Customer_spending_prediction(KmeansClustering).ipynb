{
  "nbformat": 4,
  "nbformat_minor": 0,
  "metadata": {
    "colab": {
      "name": "KmeansClustering.ipynb",
      "provenance": [],
      "collapsed_sections": []
    },
    "kernelspec": {
      "name": "python3",
      "display_name": "Python 3"
    }
  },
  "cells": [
    {
      "cell_type": "code",
      "metadata": {
        "id": "N87jzGMLVtau",
        "outputId": "8c190607-3828-4493-af53-52c59ba9a5c6",
        "colab": {
          "base_uri": "https://localhost:8080/",
          "height": 54
        }
      },
      "source": [
        "from google.colab import drive\n",
        "drive.mount('/gdrive')"
      ],
      "execution_count": null,
      "outputs": [
        {
          "output_type": "stream",
          "text": [
            "Drive already mounted at /gdrive; to attempt to forcibly remount, call drive.mount(\"/gdrive\", force_remount=True).\n"
          ],
          "name": "stdout"
        }
      ]
    },
    {
      "cell_type": "code",
      "metadata": {
        "id": "YZBeI1DPVtaL"
      },
      "source": [
        "import numpy as np\n",
        "import pandas as pd\n",
        "import matplotlib.pyplot as plt\n",
        "import seaborn as sb\n",
        "%matplotlib inline"
      ],
      "execution_count": null,
      "outputs": []
    },
    {
      "cell_type": "code",
      "metadata": {
        "id": "bCn3a_hqV3ac"
      },
      "source": [
        "path = '/gdrive/My Drive/Lemalabs/Data/'\n",
        "data = pd.read_csv(path+'Mall_Customers.csv')"
      ],
      "execution_count": null,
      "outputs": []
    },
    {
      "cell_type": "code",
      "metadata": {
        "id": "16txg8yHV_a0",
        "outputId": "ed1f5a2f-a84b-4a6a-ff61-3a8cd84b72b3",
        "colab": {
          "base_uri": "https://localhost:8080/",
          "height": 212
        }
      },
      "source": [
        "data.head()"
      ],
      "execution_count": null,
      "outputs": [
        {
          "output_type": "execute_result",
          "data": {
            "text/html": [
              "<div>\n",
              "<style scoped>\n",
              "    .dataframe tbody tr th:only-of-type {\n",
              "        vertical-align: middle;\n",
              "    }\n",
              "\n",
              "    .dataframe tbody tr th {\n",
              "        vertical-align: top;\n",
              "    }\n",
              "\n",
              "    .dataframe thead th {\n",
              "        text-align: right;\n",
              "    }\n",
              "</style>\n",
              "<table border=\"1\" class=\"dataframe\">\n",
              "  <thead>\n",
              "    <tr style=\"text-align: right;\">\n",
              "      <th></th>\n",
              "      <th>CustomerID</th>\n",
              "      <th>Genre</th>\n",
              "      <th>Age</th>\n",
              "      <th>Annual Income (k$)</th>\n",
              "      <th>Spending Score (1-100)</th>\n",
              "      <th>Unnamed: 5</th>\n",
              "    </tr>\n",
              "  </thead>\n",
              "  <tbody>\n",
              "    <tr>\n",
              "      <th>0</th>\n",
              "      <td>1</td>\n",
              "      <td>Male</td>\n",
              "      <td>19</td>\n",
              "      <td>15</td>\n",
              "      <td>39</td>\n",
              "      <td>39</td>\n",
              "    </tr>\n",
              "    <tr>\n",
              "      <th>1</th>\n",
              "      <td>2</td>\n",
              "      <td>Male</td>\n",
              "      <td>21</td>\n",
              "      <td>15</td>\n",
              "      <td>81</td>\n",
              "      <td>81</td>\n",
              "    </tr>\n",
              "    <tr>\n",
              "      <th>2</th>\n",
              "      <td>3</td>\n",
              "      <td>Female</td>\n",
              "      <td>20</td>\n",
              "      <td>16</td>\n",
              "      <td>6</td>\n",
              "      <td>6</td>\n",
              "    </tr>\n",
              "    <tr>\n",
              "      <th>3</th>\n",
              "      <td>4</td>\n",
              "      <td>Female</td>\n",
              "      <td>23</td>\n",
              "      <td>16</td>\n",
              "      <td>77</td>\n",
              "      <td>77</td>\n",
              "    </tr>\n",
              "    <tr>\n",
              "      <th>4</th>\n",
              "      <td>5</td>\n",
              "      <td>Female</td>\n",
              "      <td>31</td>\n",
              "      <td>17</td>\n",
              "      <td>40</td>\n",
              "      <td>40</td>\n",
              "    </tr>\n",
              "  </tbody>\n",
              "</table>\n",
              "</div>"
            ],
            "text/plain": [
              "   CustomerID   Genre  ...  Spending Score (1-100)  Unnamed: 5\n",
              "0           1    Male  ...                      39          39\n",
              "1           2    Male  ...                      81          81\n",
              "2           3  Female  ...                       6           6\n",
              "3           4  Female  ...                      77          77\n",
              "4           5  Female  ...                      40          40\n",
              "\n",
              "[5 rows x 6 columns]"
            ]
          },
          "metadata": {
            "tags": []
          },
          "execution_count": 44
        }
      ]
    },
    {
      "cell_type": "code",
      "metadata": {
        "id": "TJ0X6qiDWCOL",
        "outputId": "3eb7f556-80a1-43b8-858a-ae7186f31ae7",
        "colab": {
          "base_uri": "https://localhost:8080/",
          "height": 67
        }
      },
      "source": [
        "data.columns"
      ],
      "execution_count": null,
      "outputs": [
        {
          "output_type": "execute_result",
          "data": {
            "text/plain": [
              "Index(['CustomerID', 'Genre', 'Age', 'Annual Income (k$)',\n",
              "       'Spending Score (1-100)', 'Unnamed: 5'],\n",
              "      dtype='object')"
            ]
          },
          "metadata": {
            "tags": []
          },
          "execution_count": 45
        }
      ]
    },
    {
      "cell_type": "code",
      "metadata": {
        "id": "F1XMBgNHWPTC",
        "outputId": "0df7ea4d-4534-4fc1-e493-c235a5f3a8dd",
        "colab": {
          "base_uri": "https://localhost:8080/",
          "height": 334
        }
      },
      "source": [
        "plt.figure(figsize=(7, 5))\n",
        "plt.scatter('Annual Income (k$)', 'Spending Score (1-100)', data=data)\n",
        "plt.xlabel('Annual Income (k$)')\n",
        "plt.ylabel('Spending Score (1-100)')\n",
        "plt.show()"
      ],
      "execution_count": null,
      "outputs": [
        {
          "output_type": "display_data",
          "data": {
            "image/png": "[encoded data removed]",
            "text/plain": [
              "<Figure size 504x360 with 1 Axes>"
            ]
          },
          "metadata": {
            "tags": [],
            "needs_background": "light"
          }
        }
      ]
    },
    {
      "cell_type": "code",
      "metadata": {
        "id": "-AR6wZCkWdad",
        "outputId": "dfaf8fa8-d974-4019-bab1-94c340f94c09",
        "colab": {
          "base_uri": "https://localhost:8080/",
          "height": 195
        }
      },
      "source": [
        "x = data.iloc[:,3:5]\n",
        "x.head()"
      ],
      "execution_count": null,
      "outputs": [
        {
          "output_type": "execute_result",
          "data": {
            "text/html": [
              "<div>\n",
              "<style scoped>\n",
              "    .dataframe tbody tr th:only-of-type {\n",
              "        vertical-align: middle;\n",
              "    }\n",
              "\n",
              "    .dataframe tbody tr th {\n",
              "        vertical-align: top;\n",
              "    }\n",
              "\n",
              "    .dataframe thead th {\n",
              "        text-align: right;\n",
              "    }\n",
              "</style>\n",
              "<table border=\"1\" class=\"dataframe\">\n",
              "  <thead>\n",
              "    <tr style=\"text-align: right;\">\n",
              "      <th></th>\n",
              "      <th>Annual Income (k$)</th>\n",
              "      <th>Spending Score (1-100)</th>\n",
              "    </tr>\n",
              "  </thead>\n",
              "  <tbody>\n",
              "    <tr>\n",
              "      <th>0</th>\n",
              "      <td>15</td>\n",
              "      <td>39</td>\n",
              "    </tr>\n",
              "    <tr>\n",
              "      <th>1</th>\n",
              "      <td>15</td>\n",
              "      <td>81</td>\n",
              "    </tr>\n",
              "    <tr>\n",
              "      <th>2</th>\n",
              "      <td>16</td>\n",
              "      <td>6</td>\n",
              "    </tr>\n",
              "    <tr>\n",
              "      <th>3</th>\n",
              "      <td>16</td>\n",
              "      <td>77</td>\n",
              "    </tr>\n",
              "    <tr>\n",
              "      <th>4</th>\n",
              "      <td>17</td>\n",
              "      <td>40</td>\n",
              "    </tr>\n",
              "  </tbody>\n",
              "</table>\n",
              "</div>"
            ],
            "text/plain": [
              "   Annual Income (k$)  Spending Score (1-100)\n",
              "0                  15                      39\n",
              "1                  15                      81\n",
              "2                  16                       6\n",
              "3                  16                      77\n",
              "4                  17                      40"
            ]
          },
          "metadata": {
            "tags": []
          },
          "execution_count": 47
        }
      ]
    },
    {
      "cell_type": "code",
      "metadata": {
        "id": "1NwSraNQXPqf"
      },
      "source": [
        "x = np.array(x)"
      ],
      "execution_count": null,
      "outputs": []
    },
    {
      "cell_type": "markdown",
      "metadata": {
        "id": "PEXZzUZfXIYw"
      },
      "source": [
        "# **Initialise the Centroids**\n",
        "\n",
        "Randomly assign a few data points as initial centroids"
      ]
    },
    {
      "cell_type": "code",
      "metadata": {
        "id": "yebScfu6W_M3"
      },
      "source": [
        "k = 5\n",
        "def init_centroids(X, k):\n",
        "    m, n = X.shape\n",
        "    centroids = np.zeros((k, n))\n",
        "    index = np.random.randint(0, m, k) # Generate random K indices from 0 to m\n",
        "\n",
        "    for i in range(k):\n",
        "        centroids[i,:] = X[index[i],:]\n",
        "    \n",
        "    return centroids"
      ],
      "execution_count": null,
      "outputs": []
    },
    {
      "cell_type": "code",
      "metadata": {
        "id": "WRdl1zqGY7af"
      },
      "source": [
        "initial_centroids = init_centroids(x, k)"
      ],
      "execution_count": null,
      "outputs": []
    },
    {
      "cell_type": "code",
      "metadata": {
        "id": "UwGm3DcSY8Zf",
        "outputId": "0dd4bd18-331d-40be-e03e-8ad685e12590",
        "colab": {
          "base_uri": "https://localhost:8080/",
          "height": 101
        }
      },
      "source": [
        "initial_centroids"
      ],
      "execution_count": null,
      "outputs": [
        {
          "output_type": "execute_result",
          "data": {
            "text/plain": [
              "array([[21., 66.],\n",
              "       [40., 55.],\n",
              "       [88., 13.],\n",
              "       [29., 31.],\n",
              "       [78., 90.]])"
            ]
          },
          "metadata": {
            "tags": []
          },
          "execution_count": 51
        }
      ]
    },
    {
      "cell_type": "markdown",
      "metadata": {
        "id": "mW6jLUcxZdnj"
      },
      "source": [
        "### Plotting the Centroids in different colors "
      ]
    },
    {
      "cell_type": "code",
      "metadata": {
        "id": "exMfzYxcY_me",
        "outputId": "ed8bfc5a-b1b3-42c6-eb66-c0b3dde71e52",
        "colab": {
          "base_uri": "https://localhost:8080/",
          "height": 334
        }
      },
      "source": [
        "color=['red','blue','green','cyan','magenta']\n",
        "fig, ax = plt.subplots(figsize=(8, 5))\n",
        "ax.scatter('Annual Income (k$)', 'Spending Score (1-100)', data=data)\n",
        "for z in range(k):\n",
        "  ax.scatter(initial_centroids[z][0], initial_centroids[z][1], marker='X',s=300, c=color[z] )\n",
        "\n",
        "plt.xlabel('Annual Income (k$)')\n",
        "plt.ylabel('Spending Score (1-100)')\n",
        "plt.show()"
      ],
      "execution_count": null,
      "outputs": [
        {
          "output_type": "display_data",
          "data": {
            "image/png": "[encoded data removed]",
            "text/plain": [
              "<Figure size 576x360 with 1 Axes>"
            ]
          },
          "metadata": {
            "tags": [],
            "needs_background": "light"
          }
        }
      ]
    },
    {
      "cell_type": "markdown",
      "metadata": {
        "id": "wIRpj2Bwa7sP"
      },
      "source": [
        "### **Find the Closest Centroid**"
      ]
    },
    {
      "cell_type": "code",
      "metadata": {
        "id": "nOwOAkXXZiBf"
      },
      "source": [
        "def find_closest_centroids(X, centroids):\n",
        "    m = X.shape[0] # find the number of data samples\n",
        "    k = centroids.shape[0]    # Find the number of centroids\n",
        "    nearby_centroid = np.zeros(m)    # initialise the an array\n",
        "    \n",
        "    for i in range(m):\n",
        "        min_dist = float('inf') # Arbitrarily set some high initial distance\n",
        "\n",
        "        # assign Centroid to a data sample\n",
        "        for j in range(k):\n",
        "            #Find the distance between input X (x1, x2) and Centroid J (j1, j2)\n",
        "            dist = np.sum((X[i,:] - centroids[j,:]) ** 2) \n",
        "            if dist < min_dist:\n",
        "                min_dist = dist #if the distance is small make it as the minimum distance\n",
        "                nearby_centroid[i] = j #assign the centorid J to the ith sample\n",
        "    \n",
        "    return nearby_centroid #return the closest centroids for all data samples"
      ],
      "execution_count": null,
      "outputs": []
    },
    {
      "cell_type": "code",
      "metadata": {
        "id": "Y6cBiuJia_mx",
        "outputId": "99f2e1a5-95c0-4802-e8ab-41d9ef35b6d8",
        "colab": {
          "base_uri": "https://localhost:8080/",
          "height": 168
        }
      },
      "source": [
        "nearby_centroid = find_closest_centroids(x, initial_centroids)\n",
        "print(nearby_centroid)"
      ],
      "execution_count": null,
      "outputs": [
        {
          "output_type": "stream",
          "text": [
            "[3. 0. 3. 0. 3. 0. 3. 0. 3. 0. 3. 0. 3. 0. 3. 0. 3. 0. 3. 0. 3. 0. 3. 0.\n",
            " 3. 0. 3. 0. 3. 0. 3. 0. 3. 0. 3. 0. 3. 0. 3. 0. 3. 0. 3. 1. 3. 1. 1. 1.\n",
            " 1. 1. 1. 1. 1. 1. 1. 1. 1. 1. 1. 1. 1. 1. 1. 1. 1. 1. 1. 1. 1. 1. 1. 1.\n",
            " 1. 1. 1. 1. 1. 1. 1. 1. 1. 1. 1. 1. 1. 1. 1. 1. 1. 1. 1. 1. 1. 1. 1. 1.\n",
            " 1. 1. 1. 1. 1. 1. 1. 1. 1. 1. 1. 1. 1. 1. 1. 1. 1. 1. 1. 1. 1. 1. 1. 1.\n",
            " 1. 1. 1. 4. 2. 4. 2. 4. 2. 4. 2. 4. 2. 4. 2. 4. 2. 4. 2. 4. 2. 4. 2. 4.\n",
            " 2. 4. 2. 4. 2. 4. 2. 4. 2. 4. 2. 4. 2. 4. 2. 4. 2. 4. 2. 4. 2. 4. 2. 4.\n",
            " 2. 4. 2. 4. 2. 4. 2. 4. 2. 4. 2. 4. 2. 4. 2. 4. 2. 4. 2. 4. 2. 4. 2. 4.\n",
            " 2. 4. 2. 4. 2. 4. 2. 4.]\n"
          ],
          "name": "stdout"
        }
      ]
    },
    {
      "cell_type": "markdown",
      "metadata": {
        "id": "M9FLpOMtebLg"
      },
      "source": [
        "### **Find the new Centroids**\n",
        "\n",
        "#####Locate all the indicies of the a same cluster\n",
        "\n",
        "1.   Locate all the indicies of the a same cluster\n",
        "2.   Find the mean of the cluster\n",
        "3.   Make the mean as the centroid of the cluster"
      ]
    },
    {
      "cell_type": "code",
      "metadata": {
        "id": "HTz74XlQchd4"
      },
      "source": [
        "def compute_centroids(X, nearby_centroid, k):\n",
        "    m, n = X.shape\n",
        "    centroids = np.zeros((k, n))\n",
        "        \n",
        "    for i in range(k):\n",
        "        indices = np.where(nearby_centroid == i) #find all the indices that belong to the same cluster\n",
        "\n",
        "        sum_of_cluster = np.sum(X[indices,:], axis=1)\n",
        "      \n",
        "        centroids[i,:] = (sum_of_cluster / len(indices[0])) # mean of the cluster is the centroid\n",
        "    \n",
        "    return centroids"
      ],
      "execution_count": null,
      "outputs": []
    },
    {
      "cell_type": "code",
      "metadata": {
        "id": "FIXPZQFnewqn",
        "outputId": "375946e7-550b-484b-9d25-b5931b5a2dde",
        "colab": {
          "base_uri": "https://localhost:8080/",
          "height": 101
        }
      },
      "source": [
        "New_centroids = compute_centroids(x, nearby_centroid, k)\n",
        "New_centroids"
      ],
      "execution_count": null,
      "outputs": [
        {
          "output_type": "execute_result",
          "data": {
            "text/plain": [
              "array([[25.0952381 , 80.04761905],\n",
              "       [54.41772152, 50.21518987],\n",
              "       [87.        , 18.63157895],\n",
              "       [26.30434783, 20.91304348],\n",
              "       [86.53846154, 82.12820513]])"
            ]
          },
          "metadata": {
            "tags": []
          },
          "execution_count": 56
        }
      ]
    },
    {
      "cell_type": "code",
      "metadata": {
        "id": "xuWnl1gOe0Mc",
        "outputId": "f7ec6050-473b-4b9a-9ca8-766752a5bb12",
        "colab": {
          "base_uri": "https://localhost:8080/",
          "height": 334
        }
      },
      "source": [
        "color=['red','blue','green','cyan','magenta']\n",
        "fig, ax = plt.subplots(figsize=(8, 5))\n",
        "ax.scatter('Annual Income (k$)', 'Spending Score (1-100)', data=data)\n",
        "for z in range(k):\n",
        "  ax.scatter(New_centroids[z][0], New_centroids[z][1], marker='X',s=300, c=color[z] )\n",
        "\n",
        "plt.xlabel('Annual Income (k$)')\n",
        "plt.ylabel('Spending Score (1-100)')\n",
        "plt.show()"
      ],
      "execution_count": null,
      "outputs": [
        {
          "output_type": "display_data",
          "data": {
            "image/png": "[encoded data removed]",
            "text/plain": [
              "<Figure size 576x360 with 1 Axes>"
            ]
          },
          "metadata": {
            "tags": [],
            "needs_background": "light"
          }
        }
      ]
    },
    {
      "cell_type": "markdown",
      "metadata": {
        "id": "vlo6jDB7h4Uq"
      },
      "source": [
        "### **K means algorithm**\n",
        "\n",
        "\n",
        "1.   Find the closest centroid and assign the data points to a centroid\n",
        "2.   Find the mean of a cluster and recalculate the new centroids\n",
        "\n"
      ]
    },
    {
      "cell_type": "code",
      "metadata": {
        "id": "WaPAiJ8Rhsag"
      },
      "source": [
        "def k_means(X, initial_centroids, max_iters):\n",
        "    m, n = X.shape\n",
        "    #k = initial_centroids.shape[0]\n",
        "    centroids = initial_centroids\n",
        "    \n",
        "    for i in range(max_iters):\n",
        "        nearby_centroid = find_closest_centroids(X, centroids) \n",
        "        centroids = compute_centroids(X, nearby_centroid, k)\n",
        "    \n",
        "    return nearby_centroid, centroids"
      ],
      "execution_count": null,
      "outputs": []
    },
    {
      "cell_type": "code",
      "metadata": {
        "id": "00TuZFY_h8px"
      },
      "source": [
        "nearby_centroid, centroids = k_means(x, initial_centroids, 20)"
      ],
      "execution_count": null,
      "outputs": []
    },
    {
      "cell_type": "code",
      "metadata": {
        "id": "aZItC_Nvh_i_",
        "outputId": "bb4b1319-1d05-4db1-f232-18ae7e2649ce",
        "colab": {
          "base_uri": "https://localhost:8080/",
          "height": 101
        }
      },
      "source": [
        "centroids"
      ],
      "execution_count": null,
      "outputs": [
        {
          "output_type": "execute_result",
          "data": {
            "text/plain": [
              "array([[25.72727273, 79.36363636],\n",
              "       [55.0875    , 49.7125    ],\n",
              "       [87.75      , 17.58333333],\n",
              "       [26.30434783, 20.91304348],\n",
              "       [86.53846154, 82.12820513]])"
            ]
          },
          "metadata": {
            "tags": []
          },
          "execution_count": 60
        }
      ]
    },
    {
      "cell_type": "code",
      "metadata": {
        "id": "RLioGZFwiB_C",
        "outputId": "b76c95f1-b151-459a-82ad-e71fdcff891c",
        "colab": {
          "base_uri": "https://localhost:8080/",
          "height": 218
        }
      },
      "source": [
        "nearby_centroid"
      ],
      "execution_count": null,
      "outputs": [
        {
          "output_type": "execute_result",
          "data": {
            "text/plain": [
              "array([3., 0., 3., 0., 3., 0., 3., 0., 3., 0., 3., 0., 3., 0., 3., 0., 3.,\n",
              "       0., 3., 0., 3., 0., 3., 0., 3., 0., 3., 0., 3., 0., 3., 0., 3., 0.,\n",
              "       3., 0., 3., 0., 3., 0., 3., 0., 3., 1., 3., 0., 1., 1., 1., 1., 1.,\n",
              "       1., 1., 1., 1., 1., 1., 1., 1., 1., 1., 1., 1., 1., 1., 1., 1., 1.,\n",
              "       1., 1., 1., 1., 1., 1., 1., 1., 1., 1., 1., 1., 1., 1., 1., 1., 1.,\n",
              "       1., 1., 1., 1., 1., 1., 1., 1., 1., 1., 1., 1., 1., 1., 1., 1., 1.,\n",
              "       1., 1., 1., 1., 1., 1., 1., 1., 1., 1., 1., 1., 1., 1., 1., 1., 1.,\n",
              "       1., 1., 1., 1., 4., 2., 4., 1., 4., 2., 4., 2., 4., 2., 4., 2., 4.,\n",
              "       2., 4., 2., 4., 2., 4., 1., 4., 2., 4., 2., 4., 2., 4., 2., 4., 2.,\n",
              "       4., 2., 4., 2., 4., 2., 4., 2., 4., 2., 4., 2., 4., 2., 4., 2., 4.,\n",
              "       2., 4., 2., 4., 2., 4., 2., 4., 2., 4., 2., 4., 2., 4., 2., 4., 2.,\n",
              "       4., 2., 4., 2., 4., 2., 4., 2., 4., 2., 4., 2., 4.])"
            ]
          },
          "metadata": {
            "tags": []
          },
          "execution_count": 61
        }
      ]
    },
    {
      "cell_type": "code",
      "metadata": {
        "id": "X4bqD97RiI_S",
        "outputId": "714211fb-aa0a-49e8-8300-985807733e1c",
        "colab": {
          "base_uri": "https://localhost:8080/",
          "height": 334
        }
      },
      "source": [
        "color=['red','blue','green','cyan','magenta']\n",
        "#K = 5\n",
        "fig, ax = plt.subplots(figsize=(8, 5))\n",
        "ax.scatter('Annual Income (k$)', 'Spending Score (1-100)', data=data)\n",
        "for z in range(k):\n",
        "  ax.scatter(centroids[z][0], centroids[z][1], marker='X',s=300, c=color[z] )\n",
        "\n",
        "plt.xlabel('Annual Income (k$)')\n",
        "plt.ylabel('Spending Score (1-100)')\n",
        "plt.show()"
      ],
      "execution_count": null,
      "outputs": [
        {
          "output_type": "display_data",
          "data": {
            "image/png": "[encoded data removed]",
            "text/plain": [
              "<Figure size 576x360 with 1 Axes>"
            ]
          },
          "metadata": {
            "tags": [],
            "needs_background": "light"
          }
        }
      ]
    },
    {
      "cell_type": "code",
      "metadata": {
        "id": "HlxXPL6JinRH",
        "outputId": "63a6191d-4f98-4ceb-f776-2c850a85c1f0",
        "colab": {
          "base_uri": "https://localhost:8080/",
          "height": 386
        }
      },
      "source": [
        "x[np.where(nearby_centroid == 0)] #find all elements of Cluster 1"
      ],
      "execution_count": null,
      "outputs": [
        {
          "output_type": "execute_result",
          "data": {
            "text/plain": [
              "array([[15, 81],\n",
              "       [16, 77],\n",
              "       [17, 76],\n",
              "       [18, 94],\n",
              "       [19, 72],\n",
              "       [19, 99],\n",
              "       [20, 77],\n",
              "       [20, 79],\n",
              "       [21, 66],\n",
              "       [23, 98],\n",
              "       [24, 73],\n",
              "       [25, 73],\n",
              "       [28, 82],\n",
              "       [28, 61],\n",
              "       [29, 87],\n",
              "       [30, 73],\n",
              "       [33, 92],\n",
              "       [33, 81],\n",
              "       [34, 73],\n",
              "       [37, 75],\n",
              "       [38, 92],\n",
              "       [39, 65]])"
            ]
          },
          "metadata": {
            "tags": []
          },
          "execution_count": 63
        }
      ]
    },
    {
      "cell_type": "code",
      "metadata": {
        "id": "I9Cz77h8iuvG",
        "outputId": "8dd2aa25-09df-4451-dbb3-df33fb7ef463",
        "colab": {
          "base_uri": "https://localhost:8080/",
          "height": 334
        }
      },
      "source": [
        "cluster1 = x[np.where(nearby_centroid == 0)] #find all elements of Cluster 1\n",
        "cluster2 = x[np.where(nearby_centroid == 1)] #find all elements of Cluster 2\n",
        "cluster3 = x[np.where(nearby_centroid == 2)] #find all elements of Cluster 3\n",
        "cluster4 = x[np.where(nearby_centroid == 3)] #find all elements of Cluster 4\n",
        "cluster5 = x[np.where(nearby_centroid == 4)] #find all elements of Cluster 5\n",
        "\n",
        "color=['red','blue','green','cyan','magenta']\n",
        "\n",
        "fig, ax = plt.subplots(figsize=(8,5))\n",
        "ax.scatter(cluster1[:,0], cluster1[:,1], s=30, color='red', label='Cluster 1')\n",
        "ax.scatter(cluster2[:,0], cluster2[:,1], s=30, color='blue', label='Cluster 2')\n",
        "ax.scatter(cluster3[:,0], cluster3[:,1], s=30, color='green', label='Cluster 3')\n",
        "ax.scatter(cluster4[:,0], cluster4[:,1], s=30, color='cyan', label='Cluster 4')\n",
        "ax.scatter(cluster5[:,0], cluster5[:,1], s=30, color='magenta', label='Cluster 5')\n",
        "\n",
        "for z in range(k):\n",
        "  ax.scatter(centroids[z][0], centroids[z][1], marker='o',s=600, c=color[z] )\n",
        "\n",
        "plt.xlabel('Annual Income (k$)')\n",
        "plt.ylabel('Spending Score (1-100)')\n",
        "plt.show()"
      ],
      "execution_count": null,
      "outputs": [
        {
          "output_type": "display_data",
          "data": {
            "image/png": "[encoded data removed]",
            "text/plain": [
              "<Figure size 576x360 with 1 Axes>"
            ]
          },
          "metadata": {
            "tags": [],
            "needs_background": "light"
          }
        }
      ]
    },
    {
      "cell_type": "code",
      "metadata": {
        "id": "OqZQXJxFi4IS"
      },
      "source": [
        ""
      ],
      "execution_count": null,
      "outputs": []
    }
  ]
}